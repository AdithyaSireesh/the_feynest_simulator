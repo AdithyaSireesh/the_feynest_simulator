{
 "cells": [
  {
   "cell_type": "code",
   "execution_count": 1,
   "id": "2c2e5719",
   "metadata": {},
   "outputs": [],
   "source": [
    "import numpy as np\n",
    "from qiskit import Aer, IBMQ\n",
    "from qiskit.providers.ibmq import least_busy\n",
    "from qiskit import QuantumCircuit, assemble, transpile\n",
    "\n",
    "# import basic plot tools\n",
    "from qiskit.visualization import plot_histogram"
   ]
  },
  {
   "cell_type": "code",
   "execution_count": 111,
   "id": "3ae2fd1f",
   "metadata": {},
   "outputs": [],
   "source": [
    "# set the length of the n-bit input string. \n",
    "n = 3"
   ]
  },
  {
   "cell_type": "code",
   "execution_count": 112,
   "id": "dd12b788",
   "metadata": {},
   "outputs": [
    {
     "name": "stdout",
     "output_type": "stream",
     "text": [
      "1\n"
     ]
    },
    {
     "data": {
      "text/html": [
       "<pre style=\"word-wrap: normal;white-space: pre;background: #fff0;line-height: 1.1;font-family: &quot;Courier New&quot;,Courier,monospace\">          \n",
       "q_0: ─────\n",
       "          \n",
       "q_1: ─────\n",
       "          \n",
       "q_2: ─────\n",
       "     ┌───┐\n",
       "q_3: ┤ X ├\n",
       "     └───┘</pre>"
      ],
      "text/plain": [
       "          \n",
       "q_0: ─────\n",
       "          \n",
       "q_1: ─────\n",
       "          \n",
       "q_2: ─────\n",
       "     ┌───┐\n",
       "q_3: ┤ X ├\n",
       "     └───┘"
      ]
     },
     "execution_count": 112,
     "metadata": {},
     "output_type": "execute_result"
    }
   ],
   "source": [
    "const_oracle = QuantumCircuit(n+1)\n",
    "\n",
    "output = np.random.randint(2)\n",
    "print(output)\n",
    "if output == 1:\n",
    "    const_oracle.x(n)\n",
    "\n",
    "const_oracle.draw()"
   ]
  },
  {
   "cell_type": "code",
   "execution_count": 113,
   "id": "c50fc8ff",
   "metadata": {},
   "outputs": [],
   "source": [
    "balanced_oracle = QuantumCircuit(n+1)"
   ]
  },
  {
   "cell_type": "code",
   "execution_count": 114,
   "id": "5a457bd8",
   "metadata": {},
   "outputs": [],
   "source": [
    "b_str = \"101\""
   ]
  },
  {
   "cell_type": "code",
   "execution_count": null,
   "id": "3ad7b637",
   "metadata": {},
   "outputs": [],
   "source": []
  },
  {
   "cell_type": "code",
   "execution_count": null,
   "id": "4705f375",
   "metadata": {},
   "outputs": [],
   "source": []
  },
  {
   "cell_type": "code",
   "execution_count": 121,
   "id": "3b09163e",
   "metadata": {},
   "outputs": [
    {
     "data": {
      "text/html": [
       "<pre style=\"word-wrap: normal;white-space: pre;background: #fff0;line-height: 1.1;font-family: &quot;Courier New&quot;,Courier,monospace\">      ░                 ░ \n",
       "q_0: ─░───■─────────────░─\n",
       "      ░   │             ░ \n",
       "q_1: ─░───┼────■────────░─\n",
       "      ░   │    │        ░ \n",
       "q_2: ─░───┼────┼────■───░─\n",
       "      ░ ┌─┴─┐┌─┴─┐┌─┴─┐ ░ \n",
       "q_3: ─░─┤ X ├┤ X ├┤ X ├─░─\n",
       "      ░ └───┘└───┘└───┘ ░ </pre>"
      ],
      "text/plain": [
       "      ░                 ░ \n",
       "q_0: ─░───■─────────────░─\n",
       "      ░   │             ░ \n",
       "q_1: ─░───┼────■────────░─\n",
       "      ░   │    │        ░ \n",
       "q_2: ─░───┼────┼────■───░─\n",
       "      ░ ┌─┴─┐┌─┴─┐┌─┴─┐ ░ \n",
       "q_3: ─░─┤ X ├┤ X ├┤ X ├─░─\n",
       "      ░ └───┘└───┘└───┘ ░ "
      ]
     },
     "execution_count": 121,
     "metadata": {},
     "output_type": "execute_result"
    }
   ],
   "source": [
    "balanced_oracle = QuantumCircuit(n+1)\n",
    "b_str = \"000\"\n",
    "\n",
    "# Place X-gates\n",
    "for qubit in range(len(b_str)):\n",
    "    if b_str[qubit] == '1':\n",
    "        balanced_oracle.x(qubit)\n",
    "\n",
    "# Use barrier as divider\n",
    "balanced_oracle.barrier()\n",
    "\n",
    "# Controlled-NOT gates\n",
    "for qubit in range(n):\n",
    "    balanced_oracle.cx(qubit, n)\n",
    "# balanced_oracle.cx(qubit, 1)\n",
    "\n",
    "balanced_oracle.barrier()\n",
    "\n",
    "# Place X-gates\n",
    "for qubit in range(len(b_str)):\n",
    "    if b_str[qubit] == '1':\n",
    "        balanced_oracle.x(qubit)\n",
    "\n",
    "# Show oracle\n",
    "balanced_oracle.draw()"
   ]
  },
  {
   "cell_type": "code",
   "execution_count": 122,
   "id": "1f997209",
   "metadata": {},
   "outputs": [
    {
     "data": {
      "text/html": [
       "<pre style=\"word-wrap: normal;white-space: pre;background: #fff0;line-height: 1.1;font-family: &quot;Courier New&quot;,Courier,monospace\">     ┌───┐\n",
       "q_0: ┤ H ├\n",
       "     ├───┤\n",
       "q_1: ┤ H ├\n",
       "     ├───┤\n",
       "q_2: ┤ H ├\n",
       "     └───┘\n",
       "q_3: ─────\n",
       "          \n",
       "c: 3/═════\n",
       "          </pre>"
      ],
      "text/plain": [
       "     ┌───┐\n",
       "q_0: ┤ H ├\n",
       "     ├───┤\n",
       "q_1: ┤ H ├\n",
       "     ├───┤\n",
       "q_2: ┤ H ├\n",
       "     └───┘\n",
       "q_3: ─────\n",
       "          \n",
       "c: 3/═════\n",
       "          "
      ]
     },
     "metadata": {},
     "output_type": "display_data"
    },
    {
     "name": "stderr",
     "output_type": "stream",
     "text": [
      "/var/folders/92/jjpjrbf91clg0kmcnqglv1ym0000gn/T/ipykernel_76716/4181410275.py:12: DeprecationWarning: The QuantumCircuit.__iadd__() method is being deprecated. Use the compose() (potentially with the inplace=True argument) and tensor() methods which are more flexible w.r.t circuit register compatibility.\n",
      "  dj_circuit += balanced_oracle\n"
     ]
    },
    {
     "data": {
      "text/html": [
       "<pre style=\"word-wrap: normal;white-space: pre;background: #fff0;line-height: 1.1;font-family: &quot;Courier New&quot;,Courier,monospace\">     ┌───┐      ░                 ░ ┌───┐ ░ ┌─┐      \n",
       "q_0: ┤ H ├──────░───■─────────────░─┤ H ├─░─┤M├──────\n",
       "     ├───┤      ░   │             ░ ├───┤ ░ └╥┘┌─┐   \n",
       "q_1: ┤ H ├──────░───┼────■────────░─┤ H ├─░──╫─┤M├───\n",
       "     ├───┤      ░   │    │        ░ ├───┤ ░  ║ └╥┘┌─┐\n",
       "q_2: ┤ H ├──────░───┼────┼────■───░─┤ H ├─░──╫──╫─┤M├\n",
       "     ├───┤┌───┐ ░ ┌─┴─┐┌─┴─┐┌─┴─┐ ░ └───┘ ░  ║  ║ └╥┘\n",
       "q_3: ┤ X ├┤ H ├─░─┤ X ├┤ X ├┤ X ├─░───────░──╫──╫──╫─\n",
       "     └───┘└───┘ ░ └───┘└───┘└───┘ ░       ░  ║  ║  ║ \n",
       "c: 3/════════════════════════════════════════╩══╩══╩═\n",
       "                                             0  1  2 </pre>"
      ],
      "text/plain": [
       "     ┌───┐      ░                 ░ ┌───┐ ░ ┌─┐      \n",
       "q_0: ┤ H ├──────░───■─────────────░─┤ H ├─░─┤M├──────\n",
       "     ├───┤      ░   │             ░ ├───┤ ░ └╥┘┌─┐   \n",
       "q_1: ┤ H ├──────░───┼────■────────░─┤ H ├─░──╫─┤M├───\n",
       "     ├───┤      ░   │    │        ░ ├───┤ ░  ║ └╥┘┌─┐\n",
       "q_2: ┤ H ├──────░───┼────┼────■───░─┤ H ├─░──╫──╫─┤M├\n",
       "     ├───┤┌───┐ ░ ┌─┴─┐┌─┴─┐┌─┴─┐ ░ └───┘ ░  ║  ║ └╥┘\n",
       "q_3: ┤ X ├┤ H ├─░─┤ X ├┤ X ├┤ X ├─░───────░──╫──╫──╫─\n",
       "     └───┘└───┘ ░ └───┘└───┘└───┘ ░       ░  ║  ║  ║ \n",
       "c: 3/════════════════════════════════════════╩══╩══╩═\n",
       "                                             0  1  2 "
      ]
     },
     "metadata": {},
     "output_type": "display_data"
    }
   ],
   "source": [
    "dj_circuit = QuantumCircuit(n+1, n)\n",
    "\n",
    "# Apply H-gates\n",
    "for qubit in range(n):\n",
    "    dj_circuit.h(qubit)\n",
    "display(dj_circuit.draw())\n",
    "# Put qubit in state |->\n",
    "dj_circuit.x(n)\n",
    "dj_circuit.h(n)\n",
    "\n",
    "# Add oracle\n",
    "dj_circuit += balanced_oracle\n",
    "\n",
    "# Repeat H-gates\n",
    "for qubit in range(n):\n",
    "    dj_circuit.h(qubit)\n",
    "dj_circuit.barrier()\n",
    "\n",
    "# Measure\n",
    "for i in range(n):\n",
    "    dj_circuit.measure(i, i)\n",
    "\n",
    "# Display circuit\n",
    "display(dj_circuit.draw())"
   ]
  },
  {
   "cell_type": "code",
   "execution_count": 123,
   "id": "add188ed",
   "metadata": {},
   "outputs": [
    {
     "data": {
      "image/png": "[encoded data removed]",
      "text/plain": [
       "<Figure size 504x360 with 1 Axes>"
      ]
     },
     "execution_count": 123,
     "metadata": {},
     "output_type": "execute_result"
    }
   ],
   "source": [
    "# use local simulator\n",
    "aer_sim = Aer.get_backend('aer_simulator')\n",
    "qobj = assemble(dj_circuit, aer_sim)\n",
    "results = aer_sim.run(qobj).result()\n",
    "answer = results.get_counts()\n",
    "\n",
    "plot_histogram(answer)"
   ]
  },
  {
   "cell_type": "markdown",
   "id": "96992ea4",
   "metadata": {},
   "source": [
    "### Deutsch Josza"
   ]
  },
  {
   "cell_type": "code",
   "execution_count": 148,
   "id": "d9727af2",
   "metadata": {},
   "outputs": [],
   "source": [
    "def dj_oracle(case, n, b, oracle_type=\"one\"):\n",
    "    # We need to make a QuantumCircuit object to return\n",
    "    # This circuit has n+1 qubits: the size of the input,\n",
    "    # plus one output qubit\n",
    "    oracle_qc = QuantumCircuit(n+1)\n",
    "    \n",
    "    # First, let's deal with the case in which oracle is balanced\n",
    "    if case == \"balanced\":\n",
    "        # First generate a random number that tells us which CNOTs to\n",
    "        # wrap in X-gates: \n",
    "        \n",
    "        # Next, format 'b' as a binary string of length 'n', padded with zeros:\n",
    "        b_str = format(b, '0'+str(n)+'b')\n",
    "        # Next, we place the first X-gates. Each digit in our binary string \n",
    "        # corresponds to a qubit, if the digit is 0, we do nothing, if it's 1\n",
    "        # we apply an X-gate to that qubit:\n",
    "        for qubit in range(len(b_str)):\n",
    "            if b_str[qubit] == '1':\n",
    "                oracle_qc.x(qubit)\n",
    "        # Do the controlled-NOT gates for each qubit, using the output qubit \n",
    "        # as the target:\n",
    "        if oracle_type==\"one\":\n",
    "          for qubit in range(n):\n",
    "              oracle_qc.cx(qubit, n)\n",
    "        else:\n",
    "          oracle_qc.cx(0, n)\n",
    "          oracle_qc.cx(2, n)\n",
    "          oracle_qc.cx(3, n)\n",
    "          oracle_qc.cx(4, n)\n",
    "        # Next, place the final X-gates\n",
    "        for qubit in range(len(b_str)):\n",
    "            if b_str[qubit] == '1':\n",
    "                oracle_qc.x(qubit)\n",
    "\n",
    "    # Case in which oracle is constant\n",
    "    if case == \"constant\":\n",
    "        # First decide what the fixed output of the oracle will be\n",
    "        # (either always 0 or always 1)\n",
    "        output = np.random.randint(2)\n",
    "        if output == 1:\n",
    "            oracle_qc.x(n)\n",
    "    oracle_qc.draw()\n",
    "    oracle_gate = oracle_qc.to_gate()\n",
    "    oracle_gate.name = \"Oracle\" # To show when we display the circuit\n",
    "    return oracle_gate"
   ]
  },
  {
   "cell_type": "code",
   "execution_count": 149,
   "id": "e1ba6d16",
   "metadata": {},
   "outputs": [],
   "source": [
    "def dj_algorithm(oracle, n):\n",
    "    dj_circuit = QuantumCircuit(n+1, n)\n",
    "    # Set up the output qubit:\n",
    "    dj_circuit.x(n)\n",
    "    dj_circuit.h(n)\n",
    "    # And set up the input register:\n",
    "    for qubit in range(n):\n",
    "        dj_circuit.h(qubit)\n",
    "    # Let's append the oracle gate to our circuit:\n",
    "    dj_circuit.append(oracle, range(n+1))\n",
    "    # Finally, perform the H-gates again and measure:\n",
    "    for qubit in range(n):\n",
    "        dj_circuit.h(qubit)\n",
    "    \n",
    "    for i in range(n):\n",
    "        dj_circuit.measure(i, i)\n",
    "    \n",
    "    return dj_circuit"
   ]
  },
  {
   "cell_type": "code",
   "execution_count": null,
   "id": "9d6faa94",
   "metadata": {},
   "outputs": [],
   "source": []
  },
  {
   "cell_type": "code",
   "execution_count": 150,
   "id": "cef9f29e",
   "metadata": {},
   "outputs": [
    {
     "data": {
      "text/plain": [
       "['01101']"
      ]
     },
     "execution_count": 150,
     "metadata": {},
     "output_type": "execute_result"
    }
   ],
   "source": [
    "list(answer.keys())"
   ]
  },
  {
   "cell_type": "code",
   "execution_count": 151,
   "id": "c6c6255a",
   "metadata": {},
   "outputs": [],
   "source": [
    "from tqdm import tqdm"
   ]
  },
  {
   "cell_type": "code",
   "execution_count": 152,
   "id": "c68402a5",
   "metadata": {},
   "outputs": [
    {
     "name": "stderr",
     "output_type": "stream",
     "text": [
      "100%|██████████████████████████████████████████████████| 32/32 [00:01<00:00, 31.08it/s]\n"
     ]
    }
   ],
   "source": [
    "all_results = {}\n",
    "n = 5\n",
    "for i in tqdm(range(2**n)):\n",
    "  oracle_gate = dj_oracle('balanced', n, i, oracle_type=3)\n",
    "  dj_circuit = dj_algorithm(oracle_gate, n)\n",
    "  dj_circuit.draw()\n",
    "  transpiled_dj_circuit = transpile(dj_circuit, aer_sim)\n",
    "  qobj = assemble(transpiled_dj_circuit, shots=10)\n",
    "  results = aer_sim.run(qobj).result()\n",
    "  answer = results.get_counts()\n",
    "  all_results[i] = list(answer.keys())"
   ]
  },
  {
   "cell_type": "code",
   "execution_count": 153,
   "id": "54805682",
   "metadata": {},
   "outputs": [
    {
     "name": "stdout",
     "output_type": "stream",
     "text": [
      "{0: ['11101'], 1: ['11101'], 2: ['11101'], 3: ['11101'], 4: ['11101'], 5: ['11101'], 6: ['11101'], 7: ['11101'], 8: ['11101'], 9: ['11101'], 10: ['11101'], 11: ['11101'], 12: ['11101'], 13: ['11101'], 14: ['11101'], 15: ['11101'], 16: ['11101'], 17: ['11101'], 18: ['11101'], 19: ['11101'], 20: ['11101'], 21: ['11101'], 22: ['11101'], 23: ['11101'], 24: ['11101'], 25: ['11101'], 26: ['11101'], 27: ['11101'], 28: ['11101'], 29: ['11101'], 30: ['11101'], 31: ['11101']}\n"
     ]
    }
   ],
   "source": [
    "print(all_results)"
   ]
  },
  {
   "cell_type": "markdown",
   "id": "c3064732",
   "metadata": {},
   "source": [
    "* A balanced function that outputs a value f(x)=**p** for x with even 1s and f(x)=**q** for x with odd ones gives a final measurement value of 1111...1"
   ]
  },
  {
   "cell_type": "markdown",
   "id": "6bb3c971",
   "metadata": {},
   "source": [
    "* The 1s have to match at the respective positions.\n",
    "* Every z has a mapping for x.z, and if the numbers f(x) all equal f(x) or all equal the complement of x, then that is the amplitude that is finally shown "
   ]
  }
 ],
 "metadata": {
  "kernelspec": {
   "display_name": "Python [conda env:practical_rl]",
   "language": "python",
   "name": "conda-env-practical_rl-py"
  },
  "language_info": {
   "codemirror_mode": {
    "name": "ipython",
    "version": 3
   },
   "file_extension": ".py",
   "mimetype": "text/x-python",
   "name": "python",
   "nbconvert_exporter": "python",
   "pygments_lexer": "ipython3",
   "version": "3.9.7"
  }
 },
 "nbformat": 4,
 "nbformat_minor": 5
}
