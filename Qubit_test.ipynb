{
 "cells": [
  {
   "cell_type": "code",
   "execution_count": 11,
   "id": "1b01ea98",
   "metadata": {},
   "outputs": [],
   "source": [
    "import numpy as np\n",
    "import math"
   ]
  },
  {
   "cell_type": "code",
   "execution_count": 30,
   "id": "9d873b88",
   "metadata": {},
   "outputs": [],
   "source": [
    "class nQubit:\n",
    "  \"\"\"The simplest abstraction for the Quantum Equivalent of a bit\"\"\"\n",
    "  def __init__(self, qubitmap, system):\n",
    "    self.qubit = "
   ]
  },
  {
   "cell_type": "code",
   "execution_count": 31,
   "id": "4f9c588e",
   "metadata": {},
   "outputs": [
    {
     "name": "stdout",
     "output_type": "stream",
     "text": [
      "0.9999999999999998 0.7071067811865475 0.7071067811865475 0.7071067811865475 0.7071067811865475j\n"
     ]
    }
   ],
   "source": [
    "a = 1./math.sqrt(2)\n",
    "b = 1.j/math.sqrt(2)\n",
    "q1 = Qubit(a, b)"
   ]
  },
  {
   "cell_type": "code",
   "execution_count": 32,
   "id": "e8982f6c",
   "metadata": {},
   "outputs": [
    {
     "name": "stdout",
     "output_type": "stream",
     "text": [
      "0.7071067811865475|0> + 0.7071067811865475j|1>\n"
     ]
    }
   ],
   "source": [
    "q1.display()"
   ]
  },
  {
   "cell_type": "code",
   "execution_count": 160,
   "id": "ae154244",
   "metadata": {},
   "outputs": [],
   "source": [
    "class d2Unitary:\n",
    "  \"\"\"The simplest abstraction for the Quantum Equivalent of a bit\"\"\"\n",
    "  def i(self):\n",
    "    return np.eye(2)\n",
    "\n",
    "  def x(self):\n",
    "    pauli_x = np.array([[0, 1],\n",
    "                        [1, 0]])\n",
    "    return pauli_x\n",
    "  \n",
    "  def y(self):\n",
    "    pauli_y = np.array([[0, -1j],\n",
    "                        [1j, 0]])\n",
    "    return pauli_y\n",
    "    \n",
    "  def z(self):\n",
    "    pauli_z = np.array([[1, 0],\n",
    "                        [0, -1]])\n",
    "    return pauli_z\n",
    "  \n",
    "  def r_theta(self, theta):\n",
    "    e = np.e**(1j*theta)\n",
    "    r = np.array([[1, 0],\n",
    "                  [0, e]])\n",
    "    return r\n",
    "  \n",
    "  def control_u(self, u):\n",
    "    c_u = np.eye(4, dtype=np.complex128)\n",
    "    c_u[2:, 2:]\n",
    "    c_u[2:, 2:] = np.copy(u)\n",
    "    return c_u\n",
    "\n",
    "  def tensor_product(self, u1, u2):\n",
    "    if self.checkunitary(u1) and self.checkunitary(u2):\n",
    "      return np.kron(u1, u2)\n",
    "    else:\n",
    "      raise ValueError(f\"Oops! either {u1} or {u2} is not a aunitary matrix\")\n",
    "    \n",
    "  def adjoint(self, operator):\n",
    "    \"\"\"The transpose conjugate of the operator\"\"\"\n",
    "    operator_transpose = np.copy(operator.T)\n",
    "    return np.real(operator_transpose) + (-1j)*np.imag(operator_transpose)\n",
    "  \n",
    "  def checkunitary(self, operator):\n",
    "    \"\"\"Check if the operator is a unitary matrix\"\"\"\n",
    "    size = np.shape(operator)[0]\n",
    "    UU_T = operator.dot(self.adjoint(operator))\n",
    "    print(f\"operator\\n {operator},\\n adjoint\\n {self.adjoint(operator)}\")\n",
    "    return np.allclose(UU_T,np.eye(size))"
   ]
  },
  {
   "cell_type": "code",
   "execution_count": 161,
   "id": "63239f9f",
   "metadata": {},
   "outputs": [],
   "source": [
    "unitary = d2Unitary()"
   ]
  },
  {
   "cell_type": "code",
   "execution_count": 162,
   "id": "c14592fd",
   "metadata": {},
   "outputs": [
    {
     "name": "stdout",
     "output_type": "stream",
     "text": [
      "[[ 0.70710678  0.70710678]\n",
      " [ 0.70710678 -0.70710678]]\n"
     ]
    }
   ],
   "source": [
    "operator = 1/math.sqrt(2)*np.array([[1,1],\n",
    "                                    [1,-1]])\n",
    "print(operator)"
   ]
  },
  {
   "cell_type": "code",
   "execution_count": 163,
   "id": "c3f44c47",
   "metadata": {},
   "outputs": [
    {
     "name": "stdout",
     "output_type": "stream",
     "text": [
      "operator\n",
      " [[ 0.70710678  0.70710678]\n",
      " [ 0.70710678 -0.70710678]],\n",
      " adjoint\n",
      " [[ 0.70710678+0.j  0.70710678+0.j]\n",
      " [ 0.70710678+0.j -0.70710678+0.j]]\n"
     ]
    },
    {
     "data": {
      "text/plain": [
       "True"
      ]
     },
     "execution_count": 163,
     "metadata": {},
     "output_type": "execute_result"
    }
   ],
   "source": [
    "unitary.checkunitary(operator) "
   ]
  },
  {
   "cell_type": "code",
   "execution_count": 164,
   "id": "1d78e296",
   "metadata": {},
   "outputs": [
    {
     "name": "stdout",
     "output_type": "stream",
     "text": [
      "operator\n",
      " [[1. +0.j        0. +0.j       ]\n",
      " [0. +0.j        0.5+0.8660254j]],\n",
      " adjoint\n",
      " [[1. +0.j        0. +0.j       ]\n",
      " [0. +0.j        0.5-0.8660254j]]\n"
     ]
    },
    {
     "data": {
      "text/plain": [
       "True"
      ]
     },
     "execution_count": 164,
     "metadata": {},
     "output_type": "execute_result"
    }
   ],
   "source": [
    "unitary.checkunitary(unitary.r_theta(np.pi/3))"
   ]
  },
  {
   "cell_type": "code",
   "execution_count": 166,
   "id": "8a80a995",
   "metadata": {},
   "outputs": [
    {
     "name": "stdout",
     "output_type": "stream",
     "text": [
      "operator\n",
      " [[0 1]\n",
      " [1 0]],\n",
      " adjoint\n",
      " [[0.+0.j 1.+0.j]\n",
      " [1.+0.j 0.+0.j]]\n",
      "operator\n",
      " [[1. 0.]\n",
      " [0. 1.]],\n",
      " adjoint\n",
      " [[1.+0.j 0.+0.j]\n",
      " [0.+0.j 1.+0.j]]\n"
     ]
    },
    {
     "data": {
      "text/plain": [
       "array([[0., 0., 1., 0.],\n",
       "       [0., 0., 0., 1.],\n",
       "       [1., 0., 0., 0.],\n",
       "       [0., 1., 0., 0.]])"
      ]
     },
     "execution_count": 166,
     "metadata": {},
     "output_type": "execute_result"
    }
   ],
   "source": [
    "unitary.tensor_product(unitary.x(), unitary.i())"
   ]
  },
  {
   "cell_type": "code",
   "execution_count": 203,
   "id": "443c4232",
   "metadata": {},
   "outputs": [],
   "source": [
    "class oneQubit:\n",
    "  \n",
    "  def __init__(self):\n",
    "    self.state = np.array([1, 0], dtype=np.complex128).reshape(2,)\n",
    "    \n",
    "  def tensor(self, qubit):\n",
    "    return np.kron(self.state, qubit.state)\n",
    "  \n",
    "  def inner(self, qubit):\n",
    "    \"\"\"q1.inner(q2) = <q1|q2>\"\"\"\n",
    "    print(self.state.shape, qubit.state.shape)\n",
    "    return np.conjugate(self.state).T.dot(qubit.state)\n",
    "  \n",
    "  def apply(self, operator=np.eye(2)):\n",
    "    \"\"\"Applys an operator on a state\"\"\"\n",
    "    self.state = operator.dot(self.state)\n",
    "    return self.state\n",
    "  \n",
    "  def display(self):\n",
    "    print(f\"{self.state[0]}|0> + {self.state[1]}|1>\")\n",
    "  \n",
    "q1 = oneQubit()\n",
    "q2 = oneQubit()"
   ]
  },
  {
   "cell_type": "code",
   "execution_count": null,
   "id": "49833329",
   "metadata": {},
   "outputs": [],
   "source": []
  },
  {
   "cell_type": "code",
   "execution_count": 223,
   "id": "03250d7e",
   "metadata": {},
   "outputs": [],
   "source": [
    "class ndQubit:\n",
    "  \n",
    "  def __init__(self, number_of_qubits):\n",
    "    self.n = number_of_qubits\n",
    "    self.state = self.initialize(number_of_qubits)\n",
    "    \n",
    "  def initialize(self, number_of_qubits):\n",
    "    state = np.zeros((number_of_qubits**2), dtype=np.complex128).reshape(number_of_qubits**2, )\n",
    "    state[0] = 1. + 0.j\n",
    "    return state\n",
    "  \n",
    "  def display(self):\n",
    "    for i in range(self.n**2):\n",
    "      comp_basis_state = \"{0:b}\".format(i).zfill(self.n)\n",
    "      plus = \"+\" if i != (self.n**2 - 1) else \"\"\n",
    "      print(f\"{self.state[i]}|{comp_basis_state}> {plus}\", end=\" \")\n",
    "      \n",
    "  def apply(self, operator=np.eye(2)):\n",
    "    \"\"\"Applys an operator on a state\"\"\"\n",
    "    self.state = operator.dot(self.state)\n",
    "    return self.state"
   ]
  },
  {
   "cell_type": "code",
   "execution_count": 224,
   "id": "5aa7f555",
   "metadata": {},
   "outputs": [
    {
     "name": "stdout",
     "output_type": "stream",
     "text": [
      "(1+0j)|00> + 0j|01> + 0j|10> + 0j|11>  "
     ]
    }
   ],
   "source": [
    "qn = ndQubit(2)\n",
    "qn.display()"
   ]
  },
  {
   "cell_type": "code",
   "execution_count": null,
   "id": "93949eb5",
   "metadata": {},
   "outputs": [],
   "source": []
  },
  {
   "cell_type": "code",
   "execution_count": 362,
   "id": "76eaa885",
   "metadata": {},
   "outputs": [],
   "source": [
    "# class GateNode:\n",
    "#   def __init(self, gate_type=1, operation_number=0):\n",
    "#     self.gate_type=gate_type\n",
    "#     self.operation_number=operation_number"
   ]
  },
  {
   "cell_type": "code",
   "execution_count": 587,
   "id": "c908f17e",
   "metadata": {},
   "outputs": [],
   "source": [
    "class SingleQubitGateNode:\n",
    "  def __init__(self, gate, qubit_number, operation_number=0):\n",
    "#     GateNode.__init__(self, gate_type=1, operation_number=operation_number)\n",
    "    self.gate_type=1\n",
    "    self.operation_number=operation_number\n",
    "    self.gate = gate\n",
    "    self.qubit_number = qubit_number\n",
    "    self.next_gate_node = None"
   ]
  },
  {
   "cell_type": "code",
   "execution_count": 588,
   "id": "944dd550",
   "metadata": {},
   "outputs": [],
   "source": [
    "class TwoQubitControlGateNode:\n",
    "  def __init__(self, gate, q1, q2, operation_number=0, gate_mat=np.eye(4)):\n",
    "#     GateNode.__init__(self, gate_type=2, operation_number=operation_number)\n",
    "    self.gate_type=2\n",
    "    self.operation_number=operation_number\n",
    "    self.gate = gate\n",
    "    self.gate_mat = gate_mat\n",
    "    self.control_qubit = q1\n",
    "    self.target_qubit = q2\n",
    "    self.next_gate_node = None"
   ]
  },
  {
   "cell_type": "code",
   "execution_count": 595,
   "id": "d7d06e98",
   "metadata": {},
   "outputs": [],
   "source": [
    "class GateGraph:\n",
    "  \n",
    "  def __init__(self, number_of_qubits):\n",
    "    self.qubit_gate_nodes = self.fill_circuit(number_of_qubits)\n",
    "    self.current_qubit_gate_nodes = [node for node in self.qubit_gate_nodes]\n",
    "    self.operation_number = [0 for _ in range(number_of_qubits)]\n",
    "    \n",
    "    \n",
    "  def fill_circuit(self, number_of_qubits):\n",
    "    qubit_gate_nodes = []\n",
    "    operation_number=0\n",
    "    for i in range(number_of_qubits):\n",
    "      qubit_gate_nodes.append(SingleQubitGateNode(gate=\"I\", qubit_number=i, operation_number=operation_number))\n",
    "    return qubit_gate_nodes\n",
    "      \n",
    "  def insert_single_qubit_gate(self, qubit_number, gate):\n",
    "    ops_number = self.operation_number[qubit_number]\n",
    "    self.operation_number[qubit_number]+=1\n",
    "    new_gate_node = SingleQubitGateNode(gate=gate, qubit_number=qubit_number, \n",
    "                             operation_number=self.operation_number[qubit_number])    \n",
    "    self.current_qubit_gate_nodes[qubit_number].next_gate_node = new_gate_node\n",
    "    self.current_qubit_gate_nodes[qubit_number]=new_gate_node\n",
    "    return\n",
    "  \n",
    "  def insert_two_qubit_gate(self, q1, q2, gate=\"2Q\", gate_mat=np.eye(2)):\n",
    "    ops_number_q1 = self.operation_number[q1]\n",
    "    ops_number_q2 = self.operation_number[q2]\n",
    "    ops_number = max(ops_number_q1, ops_number_q2)\n",
    "    lower = min(q1, q2)\n",
    "    upper = max(q1, q2)\n",
    "    max_ops_number_in_range = ops_number\n",
    "    for i in range(lower, upper+1, 1):\n",
    "      max_ops_number_in_range=max(max_ops_number_in_range, self.current_qubit_gate_nodes[i].operation_number)\n",
    "    for i in range(lower, upper+1, 1):\n",
    "      self.operation_number[i]=max_ops_number_in_range+1\n",
    "    new_gate_node = TwoQubitControlGateNode(gate=gate, q1=q1, q2=q2, \n",
    "                             operation_number=self.operation_number[q1], gate_mat=gate_mat)\n",
    "    \n",
    "    self.current_qubit_gate_nodes[q1].next_gate_node = new_gate_node\n",
    "    self.current_qubit_gate_nodes[q1]=new_gate_node\n",
    "    return\n",
    "\n",
    "  def display_circuit(self):\n",
    "    for idx, qubit_gate in enumerate(self.qubit_gate_nodes):\n",
    "      print(f\"|0>\", end=\"\")\n",
    "      next_gate_for_qubit_i = qubit_gate.next_gate_node\n",
    "      current_iter_number = 0\n",
    "      while next_gate_for_qubit_i:\n",
    "        for i in range(current_iter_number, next_gate_for_qubit_i.operation_number-1):\n",
    "          print(f\"--   --\", end=\"\")\n",
    "        print(f\"--{next_gate_for_qubit_i.gate}#{next_gate_for_qubit_i.operation_number}--\", end=\"\")\n",
    "        current_iter_number=next_gate_for_qubit_i.operation_number\n",
    "        next_gate_for_qubit_i=next_gate_for_qubit_i.next_gate_node\n",
    "      print(\"\\n\") "
   ]
  },
  {
   "cell_type": "code",
   "execution_count": 596,
   "id": "f9288b81",
   "metadata": {},
   "outputs": [],
   "source": [
    "gg = GateGraph(4)\n",
    "gg.insert_single_qubit_gate(1, \"X\")\n",
    "gg.insert_single_qubit_gate(2, \"Y\")\n",
    "gg.insert_two_qubit_gate(1, 0, \"CU\")\n",
    "gg.insert_single_qubit_gate(2, \"U\")\n",
    "gg.insert_single_qubit_gate(3, \"U\")\n",
    "gg.insert_single_qubit_gate(0, \"U\")"
   ]
  },
  {
   "cell_type": "code",
   "execution_count": 597,
   "id": "c21ffb74",
   "metadata": {},
   "outputs": [
    {
     "name": "stdout",
     "output_type": "stream",
     "text": [
      "|0>--   ----   ----U#3--\n",
      "\n",
      "|0>--X#1----CU#2--\n",
      "\n",
      "|0>--Y#1----U#2--\n",
      "\n",
      "|0>--U#1--\n",
      "\n"
     ]
    }
   ],
   "source": [
    "gg.display_circuit()"
   ]
  },
  {
   "cell_type": "code",
   "execution_count": 598,
   "id": "38e51281",
   "metadata": {},
   "outputs": [
    {
     "name": "stdout",
     "output_type": "stream",
     "text": [
      "|0>--   ----   ----U#3----CZ#4--\n",
      "\n",
      "|0>--X#1----CU#2----   ----   ----CZ#5--\n",
      "\n",
      "|0>--Y#1----U#2----   ----   ----   ----CZ#6--\n",
      "\n",
      "|0>--U#1----   ----   ----   ----   ----   ----CZ#7--\n",
      "\n"
     ]
    }
   ],
   "source": [
    "for i in range(4):\n",
    "  gg.insert_two_qubit_gate(i, 3-i, \"CZ\")\n",
    "gg.display_circuit()"
   ]
  },
  {
   "cell_type": "code",
   "execution_count": 593,
   "id": "cc70e2a1",
   "metadata": {},
   "outputs": [
    {
     "name": "stdout",
     "output_type": "stream",
     "text": [
      "[<__main__.SingleQubitGateNode object at 0x1086c79a0>, <__main__.SingleQubitGateNode object at 0x1086c7d60>, <__main__.SingleQubitGateNode object at 0x1086c7910>, <__main__.SingleQubitGateNode object at 0x1086c7a00>]\n",
      "[<__main__.TwoQubitControlGateNode object at 0x107f3a580>, <__main__.TwoQubitControlGateNode object at 0x107f3a790>, <__main__.TwoQubitControlGateNode object at 0x1082f1700>, <__main__.TwoQubitControlGateNode object at 0x1082f14f0>]\n"
     ]
    }
   ],
   "source": [
    "print(gg.qubit_gate_nodes)\n",
    "print(gg.current_qubit_gate_nodes)"
   ]
  },
  {
   "cell_type": "code",
   "execution_count": 594,
   "id": "c0263ab4",
   "metadata": {},
   "outputs": [
    {
     "ename": "IndentationError",
     "evalue": "expected an indented block (2740947031.py, line 6)",
     "output_type": "error",
     "traceback": [
      "\u001b[0;36m  File \u001b[0;32m\"/var/folders/92/jjpjrbf91clg0kmcnqglv1ym0000gn/T/ipykernel_52643/2740947031.py\"\u001b[0;36m, line \u001b[0;32m6\u001b[0m\n\u001b[0;31m    \u001b[0m\n\u001b[0m    ^\u001b[0m\n\u001b[0;31mIndentationError\u001b[0m\u001b[0;31m:\u001b[0m expected an indented block\n"
     ]
    }
   ],
   "source": [
    "class GateGraphSimulator(GateGraph):\n",
    "  def __init__(self, number_of_qubits):\n",
    "    super().__init__(number_of_qubits)\n",
    "  \n",
    "  def simulate(self, number_of_shots):\n",
    "    "
   ]
  },
  {
   "cell_type": "code",
   "execution_count": 232,
   "id": "bb049b19",
   "metadata": {},
   "outputs": [],
   "source": [
    "class Circuit(ndQubit, d2Unitary):\n",
    "  \n",
    "  def __init__(self, number_of_qubits):\n",
    "    ndQubit.__init__(self, number_of_qubits)\n",
    "    d2Unitary.__init__(self)\n",
    "    self.gate_graph = GateGraph()\n",
    "    \n",
    "    \n",
    "  def initialise_gates(self):\n",
    "    gate_graph = {}\n",
    "    for i in range(self.n):\n",
    "      gate_graph[i] = []\n",
    "    return gate_graph\n",
    "      \n",
    "  def i(self, nq):\n",
    "    self.gate_graph[nq].append(\"I\")\n",
    "    return \n",
    "  def x(self, nq):\n",
    "    self.gate_graph[nq].append(\"X\")\n",
    "    return\n",
    "  \n",
    "  def y(self, nq):\n",
    "    self.gate_graph[nq].append(\"Y\")\n",
    "    return\n",
    "    \n",
    "  def z(self, nq):\n",
    "    self.gate_graph[nq].append(\"Z\")\n",
    "    return\n",
    "  \n",
    "  def r_theta(self, theta, nq):\n",
    "    self.gate_graph[nq].append(\"R\")\n",
    "    return\n",
    "  \n",
    "  def h(self, nq):\n",
    "    self.gate_graph[nq].append(\"H\")\n",
    "    return\n",
    "  \n",
    "  def control_u(self, u, q1, q2):\n",
    "    self.gate_graph[]\n",
    "    \n",
    "  def measure_all(self):\n",
    "  \n",
    "  def final_unitary(self):"
   ]
  },
  {
   "cell_type": "code",
   "execution_count": 233,
   "id": "862e30c7",
   "metadata": {},
   "outputs": [],
   "source": [
    "quantumCirc = Circuit(2)"
   ]
  },
  {
   "cell_type": "code",
   "execution_count": 235,
   "id": "7a3676d7",
   "metadata": {},
   "outputs": [
    {
     "data": {
      "text/plain": [
       "{0: [], 1: []}"
      ]
     },
     "execution_count": 235,
     "metadata": {},
     "output_type": "execute_result"
    }
   ],
   "source": [
    "quantumCirc.gate_graph()"
   ]
  },
  {
   "cell_type": "code",
   "execution_count": null,
   "id": "b3a28c5d",
   "metadata": {},
   "outputs": [],
   "source": [
    "#   def display_circuit(self):\n",
    "#     for idx, qubit_gate in enumerate(self.qubit_gate_nodes):\n",
    "#       print(f\"|0>\", end=\"\")\n",
    "#       next_gate_for_qubit_i = qubit_gate.next_gate_node\n",
    "#       while next_gate_for_qubit_i:\n",
    "#         print(f\"--{next_gate_for_qubit_i.gate}#{next_gate_for_qubit_i.operation_number}--\", end=\"\")\n",
    "#         next_gate_for_qubit_i=next_gate_for_qubit_i.next_gate_node\n",
    "#       print(\"\\n\")\n",
    "\n",
    "    \n",
    "#   def check_qubit_crossing(self, qubit_number, ops_number):\n",
    "#     operation_number = ops_number\n",
    "#     for gate_node in self.current_qubit_gate_nodes:\n",
    "#       if gate_node.gate_type == 2:\n",
    "#         q1 = gate_node.control_qubit\n",
    "#         q2 = gate_node.target_qubit\n",
    "        \n",
    "#         lower = min(q1, q2)\n",
    "#         upper = max(q1, q2)\n",
    "#         print(f\"qubit_number {qubit_number}, control {q1}, target {q2}, lower {lower}, upper {upper}, ops_number {ops_number}\")\n",
    "#         if (qubit_number >= lower) and (qubit_number <= upper):\n",
    "#           operation_number = max(operation_number, gate_node.operation_number)\n",
    "#     return operation_number + 1\n",
    "  \n",
    "#   def check_2_qubit_crossing(self, q1, q2, ops_number):\n",
    "#     operation_number = ops_number\n",
    "#     lower = min(q1, q2)\n",
    "#     upper = max(q1, q2)\n",
    "#     operation_number = ops_number\n",
    "#     for gate_node in self.current_qubit_gate_nodes:\n",
    "#       if gate_node.gate_type == 1:\n",
    "#         qubit_number = gate_node.qubit_number\n",
    "#         if (qubit_number >= lower) and (qubit_number <= upper):\n",
    "#           operation_number = max(operation_number, gate_node.operation_number)\n",
    "#       elif gate_node.gate_type == 2:\n",
    "#         check_q1 = gate_node.control_qubit\n",
    "#         check_q2 = gate_node.target_qubit\n",
    "        \n",
    "#         check_lower = min(check_q1, check_q2)\n",
    "#         check_upper = max(check_q1, check_q2)\n",
    "#         non_overlap_condition = (upper < check_lower) or (lower > check_upper)\n",
    "#         if not non_overlap_condition:\n",
    "#           operation_number = max(operation_number, gate_node.operation_number)\n",
    "      \n",
    "#     return operation_number + 1"
   ]
  }
 ],
 "metadata": {
  "kernelspec": {
   "display_name": "Python [conda env:practical_rl]",
   "language": "python",
   "name": "conda-env-practical_rl-py"
  },
  "language_info": {
   "codemirror_mode": {
    "name": "ipython",
    "version": 3
   },
   "file_extension": ".py",
   "mimetype": "text/x-python",
   "name": "python",
   "nbconvert_exporter": "python",
   "pygments_lexer": "ipython3",
   "version": "3.9.7"
  }
 },
 "nbformat": 4,
 "nbformat_minor": 5
}
