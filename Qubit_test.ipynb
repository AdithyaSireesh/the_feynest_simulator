{
 "cells": [
  {
   "cell_type": "code",
   "execution_count": 1,
   "id": "cc8ba271",
   "metadata": {},
   "outputs": [],
   "source": [
    "import numpy as np\n",
    "import math"
   ]
  },
  {
   "cell_type": "code",
   "execution_count": 2,
   "id": "0148524a",
   "metadata": {},
   "outputs": [
    {
     "ename": "SyntaxError",
     "evalue": "invalid syntax (1103974705.py, line 4)",
     "output_type": "error",
     "traceback": [
      "\u001b[0;36m  File \u001b[0;32m\"/var/folders/92/jjpjrbf91clg0kmcnqglv1ym0000gn/T/ipykernel_54801/1103974705.py\"\u001b[0;36m, line \u001b[0;32m4\u001b[0m\n\u001b[0;31m    self.qubit =\u001b[0m\n\u001b[0m                 ^\u001b[0m\n\u001b[0;31mSyntaxError\u001b[0m\u001b[0;31m:\u001b[0m invalid syntax\n"
     ]
    }
   ],
   "source": [
    "class nQubit:\n",
    "  \"\"\"The simplest abstraction for the Quantum Equivalent of a bit\"\"\"\n",
    "  def __init__(self, qubitmap, system):\n",
    "    self.qubit = "
   ]
  },
  {
   "cell_type": "code",
   "execution_count": 3,
   "id": "e9b23551",
   "metadata": {},
   "outputs": [
    {
     "ename": "NameError",
     "evalue": "name 'Qubit' is not defined",
     "output_type": "error",
     "traceback": [
      "\u001b[0;31m---------------------------------------------------------------------------\u001b[0m",
      "\u001b[0;31mNameError\u001b[0m                                 Traceback (most recent call last)",
      "\u001b[0;32m/var/folders/92/jjpjrbf91clg0kmcnqglv1ym0000gn/T/ipykernel_54801/685350386.py\u001b[0m in \u001b[0;36m<module>\u001b[0;34m\u001b[0m\n\u001b[1;32m      1\u001b[0m \u001b[0ma\u001b[0m \u001b[0;34m=\u001b[0m \u001b[0;36m1.\u001b[0m\u001b[0;34m/\u001b[0m\u001b[0mmath\u001b[0m\u001b[0;34m.\u001b[0m\u001b[0msqrt\u001b[0m\u001b[0;34m(\u001b[0m\u001b[0;36m2\u001b[0m\u001b[0;34m)\u001b[0m\u001b[0;34m\u001b[0m\u001b[0;34m\u001b[0m\u001b[0m\n\u001b[1;32m      2\u001b[0m \u001b[0mb\u001b[0m \u001b[0;34m=\u001b[0m \u001b[0;36m1.j\u001b[0m\u001b[0;34m/\u001b[0m\u001b[0mmath\u001b[0m\u001b[0;34m.\u001b[0m\u001b[0msqrt\u001b[0m\u001b[0;34m(\u001b[0m\u001b[0;36m2\u001b[0m\u001b[0;34m)\u001b[0m\u001b[0;34m\u001b[0m\u001b[0;34m\u001b[0m\u001b[0m\n\u001b[0;32m----> 3\u001b[0;31m \u001b[0mq1\u001b[0m \u001b[0;34m=\u001b[0m \u001b[0mQubit\u001b[0m\u001b[0;34m(\u001b[0m\u001b[0ma\u001b[0m\u001b[0;34m,\u001b[0m \u001b[0mb\u001b[0m\u001b[0;34m)\u001b[0m\u001b[0;34m\u001b[0m\u001b[0;34m\u001b[0m\u001b[0m\n\u001b[0m",
      "\u001b[0;31mNameError\u001b[0m: name 'Qubit' is not defined"
     ]
    }
   ],
   "source": [
    "a = 1./math.sqrt(2)\n",
    "b = 1.j/math.sqrt(2)\n",
    "q1 = Qubit(a, b)"
   ]
  },
  {
   "cell_type": "code",
   "execution_count": null,
   "id": "dd6c1f8b",
   "metadata": {},
   "outputs": [],
   "source": [
    "q1.display()"
   ]
  },
  {
   "cell_type": "code",
   "execution_count": 47,
   "id": "fdfcf797",
   "metadata": {},
   "outputs": [],
   "source": [
    "class d2Unitary:\n",
    "  \"\"\"The simplest abstraction for the Quantum Equivalent of a bit\"\"\"\n",
    "  def i(self):\n",
    "    return np.eye(2)\n",
    "\n",
    "  def x(self):\n",
    "    pauli_x = np.array([[0, 1],\n",
    "                        [1, 0]])\n",
    "    return pauli_x\n",
    "  \n",
    "  def y(self):\n",
    "    pauli_y = np.array([[0, -1j],\n",
    "                        [1j, 0]])\n",
    "    return pauli_y\n",
    "    \n",
    "  def z(self):\n",
    "    pauli_z = np.array([[1, 0],\n",
    "                        [0, -1]])\n",
    "    return pauli_z\n",
    "  \n",
    "  def h(self):\n",
    "    hadamard = 1/math.sqrt(2)*np.array([[1,1],\n",
    "                             [1,-1]])\n",
    "    return hadamard\n",
    "  \n",
    "  def r_theta(self, theta):\n",
    "    e = np.e**(1j*theta)\n",
    "    r = np.array([[1, 0],\n",
    "                  [0, e]])\n",
    "    return r\n",
    "  \n",
    "  def control_u(self, u):\n",
    "    c_u = np.eye(4, dtype=np.complex128)\n",
    "    c_u[2:, 2:]\n",
    "    c_u[2:, 2:] = np.copy(u)\n",
    "    return c_u\n",
    "\n",
    "  def tensor_product(self, u1, u2):\n",
    "    if self.checkunitary(u1) and self.checkunitary(u2):\n",
    "      return np.kron(u1, u2)\n",
    "    else:\n",
    "      raise ValueError(f\"Oops! either {u1} or {u2} is not a aunitary matrix\")\n",
    "    \n",
    "  def adjoint(self, operator):\n",
    "    \"\"\"The transpose conjugate of the operator\"\"\"\n",
    "    operator_transpose = np.copy(operator.T)\n",
    "    return np.real(operator_transpose) + (-1j)*np.imag(operator_transpose)\n",
    "  \n",
    "  def checkunitary(self, operator):\n",
    "    \"\"\"Check if the operator is a unitary matrix\"\"\"\n",
    "    size = np.shape(operator)[0]\n",
    "    UU_T = operator.dot(self.adjoint(operator))\n",
    "    print(f\"operator\\n {operator},\\n adjoint\\n {self.adjoint(operator)}\")\n",
    "    return np.allclose(UU_T,np.eye(size))"
   ]
  },
  {
   "cell_type": "code",
   "execution_count": 48,
   "id": "2bbab81a",
   "metadata": {},
   "outputs": [],
   "source": [
    "unitary = d2Unitary()"
   ]
  },
  {
   "cell_type": "code",
   "execution_count": 49,
   "id": "1ad55405",
   "metadata": {},
   "outputs": [
    {
     "name": "stdout",
     "output_type": "stream",
     "text": [
      "[[ 0.70710678  0.70710678]\n",
      " [ 0.70710678 -0.70710678]]\n"
     ]
    }
   ],
   "source": [
    "operator = 1/math.sqrt(2)*np.array([[1,1],\n",
    "                                    [1,-1]])\n",
    "print(operator)"
   ]
  },
  {
   "cell_type": "code",
   "execution_count": 45,
   "id": "488aa2f7",
   "metadata": {},
   "outputs": [
    {
     "name": "stdout",
     "output_type": "stream",
     "text": [
      "operator\n",
      " [[ 0.70710678  0.70710678]\n",
      " [ 0.70710678 -0.70710678]],\n",
      " adjoint\n",
      " [[ 0.70710678+0.j  0.70710678+0.j]\n",
      " [ 0.70710678+0.j -0.70710678+0.j]]\n"
     ]
    },
    {
     "data": {
      "text/plain": [
       "True"
      ]
     },
     "execution_count": 45,
     "metadata": {},
     "output_type": "execute_result"
    }
   ],
   "source": [
    "unitary.checkunitary(operator) "
   ]
  },
  {
   "cell_type": "code",
   "execution_count": 31,
   "id": "ab0dba3d",
   "metadata": {},
   "outputs": [
    {
     "name": "stdout",
     "output_type": "stream",
     "text": [
      "operator\n",
      " [[1. +0.j        0. +0.j       ]\n",
      " [0. +0.j        0.5+0.8660254j]],\n",
      " adjoint\n",
      " [[1. +0.j        0. +0.j       ]\n",
      " [0. +0.j        0.5-0.8660254j]]\n"
     ]
    },
    {
     "data": {
      "text/plain": [
       "True"
      ]
     },
     "execution_count": 31,
     "metadata": {},
     "output_type": "execute_result"
    }
   ],
   "source": [
    "unitary.checkunitary(unitary.r_theta(np.pi/3))"
   ]
  },
  {
   "cell_type": "code",
   "execution_count": 32,
   "id": "d8c3dc36",
   "metadata": {},
   "outputs": [
    {
     "name": "stdout",
     "output_type": "stream",
     "text": [
      "operator\n",
      " [[0 1]\n",
      " [1 0]],\n",
      " adjoint\n",
      " [[0.+0.j 1.+0.j]\n",
      " [1.+0.j 0.+0.j]]\n",
      "operator\n",
      " [[1. 0.]\n",
      " [0. 1.]],\n",
      " adjoint\n",
      " [[1.+0.j 0.+0.j]\n",
      " [0.+0.j 1.+0.j]]\n"
     ]
    },
    {
     "data": {
      "text/plain": [
       "array([[0., 0., 1., 0.],\n",
       "       [0., 0., 0., 1.],\n",
       "       [1., 0., 0., 0.],\n",
       "       [0., 1., 0., 0.]])"
      ]
     },
     "execution_count": 32,
     "metadata": {},
     "output_type": "execute_result"
    }
   ],
   "source": [
    "unitary.tensor_product(unitary.x(), unitary.i())"
   ]
  },
  {
   "cell_type": "code",
   "execution_count": 33,
   "id": "91d287ff",
   "metadata": {},
   "outputs": [],
   "source": [
    "class oneQubit:\n",
    "  \n",
    "  def __init__(self):\n",
    "    self.state = np.array([1, 0], dtype=np.complex128).reshape(2,)\n",
    "    \n",
    "  def tensor(self, qubit):\n",
    "    return np.kron(self.state, qubit.state)\n",
    "  \n",
    "  def inner(self, qubit):\n",
    "    \"\"\"q1.inner(q2) = <q1|q2>\"\"\"\n",
    "    print(self.state.shape, qubit.state.shape)\n",
    "    return np.conjugate(self.state).T.dot(qubit.state)\n",
    "  \n",
    "  def apply(self, operator=np.eye(2)):\n",
    "    \"\"\"Applys an operator on a state\"\"\"\n",
    "    self.state = operator.dot(self.state)\n",
    "    return self.state\n",
    "  \n",
    "  def display(self):\n",
    "    print(f\"{self.state[0]}|0> + {self.state[1]}|1>\")\n",
    "  \n",
    "q1 = oneQubit()\n",
    "q2 = oneQubit()"
   ]
  },
  {
   "cell_type": "code",
   "execution_count": null,
   "id": "bcd895ac",
   "metadata": {},
   "outputs": [],
   "source": []
  },
  {
   "cell_type": "code",
   "execution_count": 34,
   "id": "9bdcc6b4",
   "metadata": {},
   "outputs": [],
   "source": [
    "class ndQubit:\n",
    "  \n",
    "  def __init__(self, number_of_qubits):\n",
    "    self.n = number_of_qubits\n",
    "    self.state = self.initialize(number_of_qubits)\n",
    "    \n",
    "  def initialize(self, number_of_qubits):\n",
    "    state = np.zeros((number_of_qubits**2), dtype=np.complex128).reshape(number_of_qubits**2, )\n",
    "    state[0] = 1. + 0.j\n",
    "    return state\n",
    "  \n",
    "  def display(self):\n",
    "    for i in range(self.n**2):\n",
    "      comp_basis_state = \"{0:b}\".format(i).zfill(self.n)\n",
    "      plus = \"+\" if i != (self.n**2 - 1) else \"\"\n",
    "      print(f\"{self.state[i]}|{comp_basis_state}> {plus}\", end=\" \")\n",
    "      \n",
    "  def apply(self, operator=np.eye(2)):\n",
    "    \"\"\"Applys an operator on a state\"\"\"\n",
    "    self.state = operator.dot(self.state)\n",
    "    return self.state"
   ]
  },
  {
   "cell_type": "code",
   "execution_count": 35,
   "id": "2501748a",
   "metadata": {},
   "outputs": [
    {
     "name": "stdout",
     "output_type": "stream",
     "text": [
      "(1+0j)|00> + 0j|01> + 0j|10> + 0j|11>  "
     ]
    }
   ],
   "source": [
    "qn = ndQubit(2)\n",
    "qn.display()"
   ]
  },
  {
   "cell_type": "code",
   "execution_count": null,
   "id": "d15ad508",
   "metadata": {},
   "outputs": [],
   "source": []
  },
  {
   "cell_type": "code",
   "execution_count": 36,
   "id": "ce3dce3f",
   "metadata": {},
   "outputs": [],
   "source": [
    "# class GateNode:\n",
    "#   def __init(self, gate_type=1, operation_number=0):\n",
    "#     self.gate_type=gate_type\n",
    "#     self.operation_number=operation_number"
   ]
  },
  {
   "cell_type": "code",
   "execution_count": 37,
   "id": "128a02ed",
   "metadata": {},
   "outputs": [],
   "source": [
    "class SingleQubitGateNode:\n",
    "  def __init__(self, gate, qubit_number, operation_number=0):\n",
    "#     GateNode.__init__(self, gate_type=1, operation_number=operation_number)\n",
    "    self.gate_type=1\n",
    "    self.operation_number=operation_number\n",
    "    self.gate = gate\n",
    "    self.qubit_number = qubit_number\n",
    "    self.next_gate_node = None"
   ]
  },
  {
   "cell_type": "code",
   "execution_count": 38,
   "id": "3de8b9a2",
   "metadata": {},
   "outputs": [],
   "source": [
    "class TwoQubitControlGateNode:\n",
    "  def __init__(self, gate, q1, q2, operation_number=0, gate_mat=np.eye(4)):\n",
    "#     GateNode.__init__(self, gate_type=2, operation_number=operation_number)\n",
    "    self.gate_type=2\n",
    "    self.operation_number=operation_number\n",
    "    self.gate = gate\n",
    "    self.gate_mat = gate_mat\n",
    "    self.control_qubit = q1\n",
    "    self.target_qubit = q2\n",
    "    self.next_gate_node = None"
   ]
  },
  {
   "cell_type": "code",
   "execution_count": 39,
   "id": "006f4902",
   "metadata": {},
   "outputs": [],
   "source": [
    "class GateGraph:\n",
    "  \n",
    "  def __init__(self, number_of_qubits):\n",
    "    self.qubit_gate_nodes = self.fill_circuit(number_of_qubits)\n",
    "    self.current_qubit_gate_nodes = [node for node in self.qubit_gate_nodes]\n",
    "    self.operation_number = [0 for _ in range(number_of_qubits)]\n",
    "    \n",
    "    \n",
    "  def fill_circuit(self, number_of_qubits):\n",
    "    qubit_gate_nodes = []\n",
    "    operation_number=0\n",
    "    for i in range(number_of_qubits):\n",
    "      qubit_gate_nodes.append(SingleQubitGateNode(gate=\"I\", qubit_number=i, operation_number=operation_number))\n",
    "    return qubit_gate_nodes\n",
    "      \n",
    "  def insert_single_qubit_gate(self, qubit_number, gate):\n",
    "    ops_number = self.operation_number[qubit_number]\n",
    "    self.operation_number[qubit_number]+=1\n",
    "    new_gate_node = SingleQubitGateNode(gate=gate, qubit_number=qubit_number, \n",
    "                             operation_number=self.operation_number[qubit_number])    \n",
    "    self.current_qubit_gate_nodes[qubit_number].next_gate_node = new_gate_node\n",
    "    self.current_qubit_gate_nodes[qubit_number]=new_gate_node\n",
    "    return\n",
    "  \n",
    "  def insert_two_qubit_gate(self, q1, q2, gate=\"2Q\", gate_mat=np.eye(2)):\n",
    "    ops_number_q1 = self.operation_number[q1]\n",
    "    ops_number_q2 = self.operation_number[q2]\n",
    "    ops_number = max(ops_number_q1, ops_number_q2)\n",
    "    lower = min(q1, q2)\n",
    "    upper = max(q1, q2)\n",
    "    max_ops_number_in_range = ops_number\n",
    "    for i in range(lower, upper+1, 1):\n",
    "      max_ops_number_in_range=max(max_ops_number_in_range, self.current_qubit_gate_nodes[i].operation_number)\n",
    "    for i in range(lower, upper+1, 1):\n",
    "      self.operation_number[i]=max_ops_number_in_range+1\n",
    "    new_gate_node = TwoQubitControlGateNode(gate=gate, q1=q1, q2=q2, \n",
    "                             operation_number=self.operation_number[q1], gate_mat=gate_mat)\n",
    "    \n",
    "    self.current_qubit_gate_nodes[q1].next_gate_node = new_gate_node\n",
    "    self.current_qubit_gate_nodes[q1]=new_gate_node\n",
    "    return\n",
    "\n",
    "  def display_circuit(self):\n",
    "    for idx, qubit_gate in enumerate(self.qubit_gate_nodes):\n",
    "      print(f\"|0>\", end=\"\")\n",
    "      next_gate_for_qubit_i = qubit_gate.next_gate_node\n",
    "      current_iter_number = 0\n",
    "      while next_gate_for_qubit_i:\n",
    "        for i in range(current_iter_number, next_gate_for_qubit_i.operation_number-1):\n",
    "          print(f\"--   --\", end=\"\")\n",
    "        print(f\"--{next_gate_for_qubit_i.gate}#{next_gate_for_qubit_i.operation_number}--\", end=\"\")\n",
    "        current_iter_number=next_gate_for_qubit_i.operation_number\n",
    "        next_gate_for_qubit_i=next_gate_for_qubit_i.next_gate_node\n",
    "      print(\"\\n\") "
   ]
  },
  {
   "cell_type": "code",
   "execution_count": 17,
   "id": "085f737a",
   "metadata": {},
   "outputs": [],
   "source": [
    "gg = GateGraph(4)\n",
    "gg.insert_single_qubit_gate(1, \"X\")\n",
    "gg.insert_single_qubit_gate(2, \"Y\")\n",
    "gg.insert_two_qubit_gate(1, 0, \"CU\")\n",
    "gg.insert_single_qubit_gate(2, \"U\")\n",
    "gg.insert_single_qubit_gate(3, \"U\")\n",
    "gg.insert_single_qubit_gate(0, \"U\")"
   ]
  },
  {
   "cell_type": "code",
   "execution_count": 18,
   "id": "658d84d4",
   "metadata": {},
   "outputs": [
    {
     "name": "stdout",
     "output_type": "stream",
     "text": [
      "|0>--   ----   ----U#3--\n",
      "\n",
      "|0>--X#1----CU#2--\n",
      "\n",
      "|0>--Y#1----U#2--\n",
      "\n",
      "|0>--U#1--\n",
      "\n"
     ]
    }
   ],
   "source": [
    "gg.display_circuit()"
   ]
  },
  {
   "cell_type": "code",
   "execution_count": 19,
   "id": "371b0d0a",
   "metadata": {},
   "outputs": [
    {
     "name": "stdout",
     "output_type": "stream",
     "text": [
      "|0>--   ----   ----U#3----CZ#4--\n",
      "\n",
      "|0>--X#1----CU#2----   ----   ----CZ#5--\n",
      "\n",
      "|0>--Y#1----U#2----   ----   ----   ----CZ#6--\n",
      "\n",
      "|0>--U#1----   ----   ----   ----   ----   ----CZ#7--\n",
      "\n"
     ]
    }
   ],
   "source": [
    "for i in range(4):\n",
    "  gg.insert_two_qubit_gate(i, 3-i, \"CZ\")\n",
    "gg.display_circuit()"
   ]
  },
  {
   "cell_type": "code",
   "execution_count": 20,
   "id": "e3fe85a8",
   "metadata": {},
   "outputs": [
    {
     "name": "stdout",
     "output_type": "stream",
     "text": [
      "[<__main__.SingleQubitGateNode object at 0x128019490>, <__main__.SingleQubitGateNode object at 0x1280196a0>, <__main__.SingleQubitGateNode object at 0x12800c7f0>, <__main__.SingleQubitGateNode object at 0x12800c790>]\n",
      "[<__main__.TwoQubitControlGateNode object at 0x1280194f0>, <__main__.TwoQubitControlGateNode object at 0x128019100>, <__main__.TwoQubitControlGateNode object at 0x128019190>, <__main__.TwoQubitControlGateNode object at 0x128019550>]\n"
     ]
    }
   ],
   "source": [
    "print(gg.qubit_gate_nodes)\n",
    "print(gg.current_qubit_gate_nodes)"
   ]
  },
  {
   "cell_type": "code",
   "execution_count": 21,
   "id": "9fee710a",
   "metadata": {},
   "outputs": [
    {
     "ename": "IndentationError",
     "evalue": "expected an indented block (2740947031.py, line 6)",
     "output_type": "error",
     "traceback": [
      "\u001b[0;36m  File \u001b[0;32m\"/var/folders/92/jjpjrbf91clg0kmcnqglv1ym0000gn/T/ipykernel_54801/2740947031.py\"\u001b[0;36m, line \u001b[0;32m6\u001b[0m\n\u001b[0;31m    \u001b[0m\n\u001b[0m    ^\u001b[0m\n\u001b[0;31mIndentationError\u001b[0m\u001b[0;31m:\u001b[0m expected an indented block\n"
     ]
    }
   ],
   "source": [
    "class GateGraphSimulator(GateGraph):\n",
    "  def __init__(self, number_of_qubits):\n",
    "    super().__init__(number_of_qubits)\n",
    "  \n",
    "  def simulate(self, number_of_shots):\n",
    "    "
   ]
  },
  {
   "cell_type": "code",
   "execution_count": 22,
   "id": "0e92f5b7",
   "metadata": {},
   "outputs": [
    {
     "ename": "SyntaxError",
     "evalue": "invalid syntax (4119720546.py, line 39)",
     "output_type": "error",
     "traceback": [
      "\u001b[0;36m  File \u001b[0;32m\"/var/folders/92/jjpjrbf91clg0kmcnqglv1ym0000gn/T/ipykernel_54801/4119720546.py\"\u001b[0;36m, line \u001b[0;32m39\u001b[0m\n\u001b[0;31m    self.gate_graph[]\u001b[0m\n\u001b[0m                    ^\u001b[0m\n\u001b[0;31mSyntaxError\u001b[0m\u001b[0;31m:\u001b[0m invalid syntax\n"
     ]
    }
   ],
   "source": [
    "class Circuit(ndQubit, d2Unitary):\n",
    "  \n",
    "  def __init__(self, number_of_qubits):\n",
    "    ndQubit.__init__(self, number_of_qubits)\n",
    "    d2Unitary.__init__(self)\n",
    "    self.gate_graph = GateGraph()\n",
    "    \n",
    "    \n",
    "  def initialise_gates(self):\n",
    "    gate_graph = {}\n",
    "    for i in range(self.n):\n",
    "      gate_graph[i] = []\n",
    "    return gate_graph\n",
    "      \n",
    "  def i(self, nq):\n",
    "    self.gate_graph[nq].append(\"I\")\n",
    "    return \n",
    "  def x(self, nq):\n",
    "    self.gate_graph[nq].append(\"X\")\n",
    "    return\n",
    "  \n",
    "  def y(self, nq):\n",
    "    self.gate_graph[nq].append(\"Y\")\n",
    "    return\n",
    "    \n",
    "  def z(self, nq):\n",
    "    self.gate_graph[nq].append(\"Z\")\n",
    "    return\n",
    "  \n",
    "  def r_theta(self, theta, nq):\n",
    "    self.gate_graph[nq].append(\"R\")\n",
    "    return\n",
    "  \n",
    "  def h(self, nq):\n",
    "    self.gate_graph[nq].append(\"H\")\n",
    "    return\n",
    "  \n",
    "  def control_u(self, u, q1, q2):\n",
    "    self.gate_graph[]\n",
    "    \n",
    "  def measure_all(self):\n",
    "  \n",
    "  def final_unitary(self):"
   ]
  },
  {
   "cell_type": "code",
   "execution_count": 23,
   "id": "9feee364",
   "metadata": {},
   "outputs": [
    {
     "ename": "NameError",
     "evalue": "name 'Circuit' is not defined",
     "output_type": "error",
     "traceback": [
      "\u001b[0;31m---------------------------------------------------------------------------\u001b[0m",
      "\u001b[0;31mNameError\u001b[0m                                 Traceback (most recent call last)",
      "\u001b[0;32m/var/folders/92/jjpjrbf91clg0kmcnqglv1ym0000gn/T/ipykernel_54801/2324892426.py\u001b[0m in \u001b[0;36m<module>\u001b[0;34m\u001b[0m\n\u001b[0;32m----> 1\u001b[0;31m \u001b[0mquantumCirc\u001b[0m \u001b[0;34m=\u001b[0m \u001b[0mCircuit\u001b[0m\u001b[0;34m(\u001b[0m\u001b[0;36m2\u001b[0m\u001b[0;34m)\u001b[0m\u001b[0;34m\u001b[0m\u001b[0;34m\u001b[0m\u001b[0m\n\u001b[0m",
      "\u001b[0;31mNameError\u001b[0m: name 'Circuit' is not defined"
     ]
    }
   ],
   "source": [
    "quantumCirc = Circuit(2)"
   ]
  },
  {
   "cell_type": "code",
   "execution_count": 24,
   "id": "14bdd4f2",
   "metadata": {},
   "outputs": [
    {
     "ename": "NameError",
     "evalue": "name 'quantumCirc' is not defined",
     "output_type": "error",
     "traceback": [
      "\u001b[0;31m---------------------------------------------------------------------------\u001b[0m",
      "\u001b[0;31mNameError\u001b[0m                                 Traceback (most recent call last)",
      "\u001b[0;32m/var/folders/92/jjpjrbf91clg0kmcnqglv1ym0000gn/T/ipykernel_54801/1453776671.py\u001b[0m in \u001b[0;36m<module>\u001b[0;34m\u001b[0m\n\u001b[0;32m----> 1\u001b[0;31m \u001b[0mquantumCirc\u001b[0m\u001b[0;34m.\u001b[0m\u001b[0mgate_graph\u001b[0m\u001b[0;34m(\u001b[0m\u001b[0;34m)\u001b[0m\u001b[0;34m\u001b[0m\u001b[0;34m\u001b[0m\u001b[0m\n\u001b[0m",
      "\u001b[0;31mNameError\u001b[0m: name 'quantumCirc' is not defined"
     ]
    }
   ],
   "source": [
    "quantumCirc.gate_graph()"
   ]
  },
  {
   "cell_type": "code",
   "execution_count": 25,
   "id": "284abc6e",
   "metadata": {},
   "outputs": [],
   "source": [
    "#   def display_circuit(self):\n",
    "#     for idx, qubit_gate in enumerate(self.qubit_gate_nodes):\n",
    "#       print(f\"|0>\", end=\"\")\n",
    "#       next_gate_for_qubit_i = qubit_gate.next_gate_node\n",
    "#       while next_gate_for_qubit_i:\n",
    "#         print(f\"--{next_gate_for_qubit_i.gate}#{next_gate_for_qubit_i.operation_number}--\", end=\"\")\n",
    "#         next_gate_for_qubit_i=next_gate_for_qubit_i.next_gate_node\n",
    "#       print(\"\\n\")\n",
    "\n",
    "    \n",
    "#   def check_qubit_crossing(self, qubit_number, ops_number):\n",
    "#     operation_number = ops_number\n",
    "#     for gate_node in self.current_qubit_gate_nodes:\n",
    "#       if gate_node.gate_type == 2:\n",
    "#         q1 = gate_node.control_qubit\n",
    "#         q2 = gate_node.target_qubit\n",
    "        \n",
    "#         lower = min(q1, q2)\n",
    "#         upper = max(q1, q2)\n",
    "#         print(f\"qubit_number {qubit_number}, control {q1}, target {q2}, lower {lower}, upper {upper}, ops_number {ops_number}\")\n",
    "#         if (qubit_number >= lower) and (qubit_number <= upper):\n",
    "#           operation_number = max(operation_number, gate_node.operation_number)\n",
    "#     return operation_number + 1\n",
    "  \n",
    "#   def check_2_qubit_crossing(self, q1, q2, ops_number):\n",
    "#     operation_number = ops_number\n",
    "#     lower = min(q1, q2)\n",
    "#     upper = max(q1, q2)\n",
    "#     operation_number = ops_number\n",
    "#     for gate_node in self.current_qubit_gate_nodes:\n",
    "#       if gate_node.gate_type == 1:\n",
    "#         qubit_number = gate_node.qubit_number\n",
    "#         if (qubit_number >= lower) and (qubit_number <= upper):\n",
    "#           operation_number = max(operation_number, gate_node.operation_number)\n",
    "#       elif gate_node.gate_type == 2:\n",
    "#         check_q1 = gate_node.control_qubit\n",
    "#         check_q2 = gate_node.target_qubit\n",
    "        \n",
    "#         check_lower = min(check_q1, check_q2)\n",
    "#         check_upper = max(check_q1, check_q2)\n",
    "#         non_overlap_condition = (upper < check_lower) or (lower > check_upper)\n",
    "#         if not non_overlap_condition:\n",
    "#           operation_number = max(operation_number, gate_node.operation_number)\n",
    "      \n",
    "#     return operation_number + 1"
   ]
  },
  {
   "cell_type": "code",
   "execution_count": null,
   "id": "aea50938",
   "metadata": {},
   "outputs": [],
   "source": []
  },
  {
   "cell_type": "code",
   "execution_count": 51,
   "id": "f377b187",
   "metadata": {},
   "outputs": [
    {
     "data": {
      "text/plain": [
       "array([[ 1.00000000e+00+0.j, -2.23711432e-17+0.j],\n",
       "       [ 2.23711432e-17+0.j, -1.00000000e+00+0.j]])"
      ]
     },
     "execution_count": 51,
     "metadata": {},
     "output_type": "execute_result"
    }
   ],
   "source": [
    "unitary.h().dot(unitary.x()).dot(unitary.adjoint(unitary.h()))"
   ]
  },
  {
   "cell_type": "code",
   "execution_count": null,
   "id": "c4504ef0",
   "metadata": {},
   "outputs": [],
   "source": []
  }
 ],
 "metadata": {
  "kernelspec": {
   "display_name": "Python [conda env:practical_rl]",
   "language": "python",
   "name": "conda-env-practical_rl-py"
  },
  "language_info": {
   "codemirror_mode": {
    "name": "ipython",
    "version": 3
   },
   "file_extension": ".py",
   "mimetype": "text/x-python",
   "name": "python",
   "nbconvert_exporter": "python",
   "pygments_lexer": "ipython3",
   "version": "3.9.7"
  }
 },
 "nbformat": 4,
 "nbformat_minor": 5
}
